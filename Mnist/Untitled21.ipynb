{
  "nbformat": 4,
  "nbformat_minor": 0,
  "metadata": {
    "colab": {
      "name": "Untitled21.ipynb",
      "provenance": []
    },
    "kernelspec": {
      "name": "python3",
      "display_name": "Python 3"
    }
  },
  "cells": [
    {
      "cell_type": "code",
      "metadata": {
        "id": "WdU4__G5WFPZ",
        "colab_type": "code",
        "colab": {}
      },
      "source": [
        "import keras\n",
        "from keras import models,Sequential"
      ],
      "execution_count": 113,
      "outputs": []
    },
    {
      "cell_type": "code",
      "metadata": {
        "id": "DuSE6_giWNbM",
        "colab_type": "code",
        "colab": {}
      },
      "source": [
        "# import data\n",
        "from keras.datasets import mnist\n",
        "(train_images, train_labels), (test_images, test_labels) = mnist.load_data()"
      ],
      "execution_count": 114,
      "outputs": []
    },
    {
      "cell_type": "code",
      "metadata": {
        "id": "526942QF22W4",
        "colab_type": "code",
        "colab": {}
      },
      "source": [
        ""
      ],
      "execution_count": 114,
      "outputs": []
    },
    {
      "cell_type": "code",
      "metadata": {
        "id": "wmnlxkZtZrPc",
        "colab_type": "code",
        "colab": {}
      },
      "source": [
        "#data preprocessing \n",
        "# def preprocess_data():\n",
        "from keras.utils import to_categorical\n",
        "# train_images.shape\n",
        "train_images=train_images.reshape(60000,28*28)/255\n",
        "test_images=test_images.reshape(10000,28*28)/255\n",
        "#preparing the lables\n",
        "train_labels=to_categorical(train_labels)\n",
        "# test_lables=to_categorical(test_labels)"
      ],
      "execution_count": 115,
      "outputs": []
    },
    {
      "cell_type": "code",
      "metadata": {
        "id": "VbUIMhBeeX80",
        "colab_type": "code",
        "colab": {}
      },
      "source": [
        "# train_labels.shape #(60000, 10))\n",
        "# train_images.shape #(60000, 784)"
      ],
      "execution_count": 116,
      "outputs": []
    },
    {
      "cell_type": "code",
      "metadata": {
        "id": "MCGYefK7Z4QK",
        "colab_type": "code",
        "colab": {}
      },
      "source": [
        "#model\n",
        "def make_model():\n",
        "  from keras import models,layers\n",
        "  model=models.Sequential()\n",
        "  model.add(layers.Dense(512,activation=\"relu\",input_shape=(28*28,)))\n",
        "  model.add(layers.Dense(128,activation=\"relu\"))\n",
        "  model.add(layers.Dense(10,activation='softmax'))\n",
        "  model.compile(optimizer='adam',metrics=['accuracy'],loss='categorical_crossentropy')\n",
        "  model.summary()\n",
        "  return model"
      ],
      "execution_count": 117,
      "outputs": []
    },
    {
      "cell_type": "code",
      "metadata": {
        "id": "FIYv1rnmeKsL",
        "colab_type": "code",
        "colab": {
          "base_uri": "https://localhost:8080/",
          "height": 506
        },
        "outputId": "d73ead27-bc14-4a58-b431-15e3ef400700"
      },
      "source": [
        "#calling the  function \n",
        "# import_data()\n",
        "# preprocess_data()\n",
        "model=make_model()\n",
        "model.fit(train_images,train_labels,batch_size=128,epochs=6,validation_split=0.20) #reshaping need"
      ],
      "execution_count": 118,
      "outputs": [
        {
          "output_type": "stream",
          "text": [
            "Model: \"sequential_13\"\n",
            "_________________________________________________________________\n",
            "Layer (type)                 Output Shape              Param #   \n",
            "=================================================================\n",
            "dense_26 (Dense)             (None, 512)               401920    \n",
            "_________________________________________________________________\n",
            "dense_27 (Dense)             (None, 128)               65664     \n",
            "_________________________________________________________________\n",
            "dense_28 (Dense)             (None, 10)                1290      \n",
            "=================================================================\n",
            "Total params: 468,874\n",
            "Trainable params: 468,874\n",
            "Non-trainable params: 0\n",
            "_________________________________________________________________\n",
            "Epoch 1/6\n",
            "375/375 [==============================] - 3s 8ms/step - loss: 0.2601 - accuracy: 0.9246 - val_loss: 0.1236 - val_accuracy: 0.9622\n",
            "Epoch 2/6\n",
            "375/375 [==============================] - 3s 8ms/step - loss: 0.0984 - accuracy: 0.9701 - val_loss: 0.0924 - val_accuracy: 0.9726\n",
            "Epoch 3/6\n",
            "375/375 [==============================] - 3s 8ms/step - loss: 0.0602 - accuracy: 0.9818 - val_loss: 0.0934 - val_accuracy: 0.9716\n",
            "Epoch 4/6\n",
            "375/375 [==============================] - 3s 8ms/step - loss: 0.0408 - accuracy: 0.9869 - val_loss: 0.0882 - val_accuracy: 0.9732\n",
            "Epoch 5/6\n",
            "375/375 [==============================] - 3s 8ms/step - loss: 0.0306 - accuracy: 0.9898 - val_loss: 0.0839 - val_accuracy: 0.9758\n",
            "Epoch 6/6\n",
            "375/375 [==============================] - 3s 8ms/step - loss: 0.0228 - accuracy: 0.9929 - val_loss: 0.0809 - val_accuracy: 0.9763\n"
          ],
          "name": "stdout"
        },
        {
          "output_type": "execute_result",
          "data": {
            "text/plain": [
              "<tensorflow.python.keras.callbacks.History at 0x7f7f729407b8>"
            ]
          },
          "metadata": {
            "tags": []
          },
          "execution_count": 118
        }
      ]
    },
    {
      "cell_type": "code",
      "metadata": {
        "id": "9wDBNgHzxcZE",
        "colab_type": "code",
        "colab": {
          "base_uri": "https://localhost:8080/",
          "height": 34
        },
        "outputId": "91627179-cd26-4d48-982c-44ef7a9002ca"
      },
      "source": [
        "import numpy as np\n",
        "predicted=np.argmax(model.predict(test_images,batch_size=128),axis=1)+1\n",
        "predicted"
      ],
      "execution_count": 119,
      "outputs": [
        {
          "output_type": "execute_result",
          "data": {
            "text/plain": [
              "array([8, 3, 2, ..., 5, 6, 7])"
            ]
          },
          "metadata": {
            "tags": []
          },
          "execution_count": 119
        }
      ]
    },
    {
      "cell_type": "code",
      "metadata": {
        "id": "1LSpLCeT3ddM",
        "colab_type": "code",
        "colab": {}
      },
      "source": [
        "y_true=np.argmax(test_lables,axis=1)+1"
      ],
      "execution_count": 125,
      "outputs": []
    },
    {
      "cell_type": "code",
      "metadata": {
        "id": "tUGbI3YYyKgH",
        "colab_type": "code",
        "colab": {
          "base_uri": "https://localhost:8080/",
          "height": 34
        },
        "outputId": "91839063-0300-4bbb-e124-92ee92703e38"
      },
      "source": [
        "#Confusion matrix\n",
        "count=0\n",
        "for  i in range(10000):\n",
        "  if y_true[i]==predicted[i]:\n",
        "    count+=1\n",
        "\n",
        "print(\"accuracy=\",count/10000)"
      ],
      "execution_count": 136,
      "outputs": [
        {
          "output_type": "stream",
          "text": [
            "accuracy= 0.9783\n"
          ],
          "name": "stdout"
        }
      ]
    }
  ]
}